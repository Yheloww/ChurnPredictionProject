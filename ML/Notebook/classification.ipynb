{
 "cells": [
  {
   "cell_type": "code",
   "execution_count": 2,
   "metadata": {},
   "outputs": [
    {
     "data": {
      "text/html": [
       "<div>\n",
       "<style scoped>\n",
       "    .dataframe tbody tr th:only-of-type {\n",
       "        vertical-align: middle;\n",
       "    }\n",
       "\n",
       "    .dataframe tbody tr th {\n",
       "        vertical-align: top;\n",
       "    }\n",
       "\n",
       "    .dataframe thead th {\n",
       "        text-align: right;\n",
       "    }\n",
       "</style>\n",
       "<table border=\"1\" class=\"dataframe\">\n",
       "  <thead>\n",
       "    <tr style=\"text-align: right;\">\n",
       "      <th></th>\n",
       "      <th>Attrition_Flag</th>\n",
       "      <th>Total_Trans_Ct</th>\n",
       "      <th>Total_Revolving_Bal</th>\n",
       "      <th>Total_Relationship_Count</th>\n",
       "      <th>Total_Amt_Chng_Q4_Q1</th>\n",
       "      <th>Total_Trans_Amt</th>\n",
       "      <th>Total_Ct_Chng_Q4_Q1</th>\n",
       "      <th>Avg_Open_To_Buy</th>\n",
       "      <th>Customer_Age</th>\n",
       "    </tr>\n",
       "  </thead>\n",
       "  <tbody>\n",
       "    <tr>\n",
       "      <th>0</th>\n",
       "      <td>2</td>\n",
       "      <td>42</td>\n",
       "      <td>777</td>\n",
       "      <td>5</td>\n",
       "      <td>1.335</td>\n",
       "      <td>1144</td>\n",
       "      <td>1.625</td>\n",
       "      <td>11914.0</td>\n",
       "      <td>45</td>\n",
       "    </tr>\n",
       "    <tr>\n",
       "      <th>1</th>\n",
       "      <td>2</td>\n",
       "      <td>33</td>\n",
       "      <td>864</td>\n",
       "      <td>6</td>\n",
       "      <td>1.541</td>\n",
       "      <td>1291</td>\n",
       "      <td>3.714</td>\n",
       "      <td>7392.0</td>\n",
       "      <td>49</td>\n",
       "    </tr>\n",
       "    <tr>\n",
       "      <th>2</th>\n",
       "      <td>2</td>\n",
       "      <td>20</td>\n",
       "      <td>0</td>\n",
       "      <td>4</td>\n",
       "      <td>2.594</td>\n",
       "      <td>1887</td>\n",
       "      <td>2.333</td>\n",
       "      <td>3418.0</td>\n",
       "      <td>51</td>\n",
       "    </tr>\n",
       "    <tr>\n",
       "      <th>3</th>\n",
       "      <td>2</td>\n",
       "      <td>20</td>\n",
       "      <td>2517</td>\n",
       "      <td>3</td>\n",
       "      <td>1.405</td>\n",
       "      <td>1171</td>\n",
       "      <td>2.333</td>\n",
       "      <td>796.0</td>\n",
       "      <td>40</td>\n",
       "    </tr>\n",
       "    <tr>\n",
       "      <th>4</th>\n",
       "      <td>2</td>\n",
       "      <td>28</td>\n",
       "      <td>0</td>\n",
       "      <td>5</td>\n",
       "      <td>2.175</td>\n",
       "      <td>816</td>\n",
       "      <td>2.500</td>\n",
       "      <td>4716.0</td>\n",
       "      <td>40</td>\n",
       "    </tr>\n",
       "  </tbody>\n",
       "</table>\n",
       "</div>"
      ],
      "text/plain": [
       "   Attrition_Flag  Total_Trans_Ct  Total_Revolving_Bal  \\\n",
       "0               2              42                  777   \n",
       "1               2              33                  864   \n",
       "2               2              20                    0   \n",
       "3               2              20                 2517   \n",
       "4               2              28                    0   \n",
       "\n",
       "   Total_Relationship_Count  Total_Amt_Chng_Q4_Q1  Total_Trans_Amt  \\\n",
       "0                         5                 1.335             1144   \n",
       "1                         6                 1.541             1291   \n",
       "2                         4                 2.594             1887   \n",
       "3                         3                 1.405             1171   \n",
       "4                         5                 2.175              816   \n",
       "\n",
       "   Total_Ct_Chng_Q4_Q1  Avg_Open_To_Buy  Customer_Age  \n",
       "0                1.625          11914.0            45  \n",
       "1                3.714           7392.0            49  \n",
       "2                2.333           3418.0            51  \n",
       "3                2.333            796.0            40  \n",
       "4                2.500           4716.0            40  "
      ]
     },
     "execution_count": 2,
     "metadata": {},
     "output_type": "execute_result"
    }
   ],
   "source": [
    "import pandas as pd \n",
    "import numpy as np \n",
    "import matplotlib.pyplot as plt \n",
    "import seaborn as sns\n",
    "\n",
    "churn = pd.read_csv(\"../Data/Cleaned_ML_Unknonw.csv\")\n",
    "churn.drop(['Unnamed: 0'], axis=1, inplace=True)\n",
    "less = churn[['Attrition_Flag','Total_Trans_Ct','Total_Revolving_Bal','Total_Relationship_Count','Total_Amt_Chng_Q4_Q1','Total_Trans_Amt','Total_Ct_Chng_Q4_Q1','Avg_Open_To_Buy','Customer_Age']]\n",
    "less.head()"
   ]
  },
  {
   "cell_type": "code",
   "execution_count": 3,
   "metadata": {},
   "outputs": [],
   "source": [
    "\n",
    "X = less.drop('Attrition_Flag',axis=1)\n",
    "y = less['Attrition_Flag']\n"
   ]
  },
  {
   "cell_type": "code",
   "execution_count": 4,
   "metadata": {},
   "outputs": [
    {
     "data": {
      "text/plain": [
       "<AxesSubplot: ylabel='Attrition_Flag'>"
      ]
     },
     "execution_count": 4,
     "metadata": {},
     "output_type": "execute_result"
    },
    {
     "data": {
      "image/png": "[encoded data removed]",
      "text/plain": [
       "<Figure size 640x480 with 1 Axes>"
      ]
     },
     "metadata": {},
     "output_type": "display_data"
    }
   ],
   "source": [
    "from imblearn.over_sampling import RandomOverSampler\n",
    "from imblearn.under_sampling import RandomUnderSampler\n",
    "\n",
    "rus = RandomUnderSampler(sampling_strategy=\"not minority\")\n",
    "ros = RandomOverSampler(sampling_strategy=\"not majority\")\n",
    "X_ros, y_ros = ros.fit_resample(X,y)\n",
    "X_rus, y_rus = rus.fit_resample(X,y)\n",
    "\n",
    "y_ros.value_counts().plot.pie(autopct='%.2f')\n"
   ]
  },
  {
   "cell_type": "code",
   "execution_count": 5,
   "metadata": {},
   "outputs": [
    {
     "data": {
      "text/plain": [
       "{'ccp_alpha': 0.0,\n",
       " 'class_weight': None,\n",
       " 'criterion': 'gini',\n",
       " 'max_depth': 6,\n",
       " 'max_features': None,\n",
       " 'max_leaf_nodes': None,\n",
       " 'min_impurity_decrease': 0.0,\n",
       " 'min_samples_leaf': 1,\n",
       " 'min_samples_split': 2,\n",
       " 'min_weight_fraction_leaf': 0.0,\n",
       " 'random_state': None,\n",
       " 'splitter': 'best'}"
      ]
     },
     "execution_count": 5,
     "metadata": {},
     "output_type": "execute_result"
    }
   ],
   "source": [
    "from sklearn.naive_bayes import GaussianNB\n",
    "from sklearn.model_selection import train_test_split\n",
    "from sklearn.neighbors import KNeighborsClassifier\n",
    "from sklearn.tree import DecisionTreeClassifier\n",
    "from sklearn.metrics import ConfusionMatrixDisplay\n",
    "from sklearn.svm import SVC\n",
    "from sklearn.pipeline import Pipeline\n",
    "from sklearn.model_selection import RandomizedSearchCV\n",
    "from sklearn.preprocessing import StandardScaler\n",
    "#test of different classifier algorithms\n",
    "classifier = [\n",
    "    KNeighborsClassifier(5),\n",
    "    GaussianNB(),\n",
    "    DecisionTreeClassifier(max_depth=6),\n",
    "    SVC(gamma=2, C=1)\n",
    "]\n",
    "DecisionTreeClassifier(max_depth=6).get_params()"
   ]
  },
  {
   "cell_type": "code",
   "execution_count": 6,
   "metadata": {},
   "outputs": [
    {
     "name": "stdout",
     "output_type": "stream",
     "text": [
      "the KNeighborsClassifier() has a score of 0.9047058823529411\n",
      "the GaussianNB() has a score of 0.7832941176470588\n",
      "the DecisionTreeClassifier(max_depth=6) has a score of 0.9303529411764706\n",
      "the SVC(C=1, gamma=2) has a score of 0.9887058823529412\n"
     ]
    }
   ],
   "source": [
    "#with Over sampling \n",
    "X_train, X_test, y_train, y_test = train_test_split(X_ros, y_ros, random_state=0)\n",
    "\n",
    "for model in classifier:\n",
    "    y_pred = model.fit(X_train, y_train).predict(X_test)\n",
    "    number = X_test.shape[0]\n",
    "    test = (y_test != y_pred).sum()\n",
    "    score = model.score(X_test, y_test)\n",
    "    print(f\"the {model} has a score of {score}\")\n"
   ]
  },
  {
   "cell_type": "code",
   "execution_count": 7,
   "metadata": {},
   "outputs": [
    {
     "name": "stdout",
     "output_type": "stream",
     "text": [
      "the KNeighborsClassifier() has a score of 0.8366093366093366\n",
      "the GaussianNB() has a score of 0.7727272727272727\n",
      "the DecisionTreeClassifier(max_depth=6) has a score of 0.9004914004914005\n",
      "the SVC(C=1, gamma=2) has a score of 0.47542997542997545\n"
     ]
    }
   ],
   "source": [
    "#With Under Sampling \n",
    "X_train, X_test, y_train, y_test = train_test_split(X_rus, y_rus, random_state=0)\n",
    "\n",
    "for model in classifier:\n",
    "    y_pred = model.fit(X_train, y_train).predict(X_test)\n",
    "    number = X_test.shape[0]\n",
    "    score = model.score(X_test, y_test)\n",
    "    print(f\"the {model} has a score of {score}\")\n",
    "    "
   ]
  },
  {
   "cell_type": "code",
   "execution_count": 8,
   "metadata": {},
   "outputs": [
    {
     "name": "stdout",
     "output_type": "stream",
     "text": [
      "{'max_features': None, 'max_depth': 7, 'criterion': 'gini'}\n",
      "0.9383529411764705\n"
     ]
    }
   ],
   "source": [
    "\n",
    "X_train, X_test, y_train, y_test = train_test_split(X_ros, y_ros, random_state=0)\n",
    "\n",
    "\n",
    "dtc = DecisionTreeClassifier(random_state=42)\n",
    "\n",
    "param_grid = { \n",
    "    'max_features': ['sqrt', 'log2',None],\n",
    "    'max_depth' : [4,5,6,7,8],\n",
    "    'criterion' :['gini', 'entropy'],\n",
    "}\n",
    "\n",
    "dtc = RandomizedSearchCV(dtc,\n",
    "                  param_grid,\n",
    "                  cv=5,\n",
    "                  n_iter=20,\n",
    "                  random_state=42,\n",
    ")\n",
    "\n",
    "dtc.fit(X_train,y_train)\n",
    "print(dtc.best_params_)\n",
    "print(dtc.best_score_)"
   ]
  },
  {
   "cell_type": "code",
   "execution_count": 9,
   "metadata": {},
   "outputs": [
    {
     "name": "stdout",
     "output_type": "stream",
     "text": [
      "0.9597156398104265\n",
      "              precision    recall  f1-score   support\n",
      "\n",
      "           1       0.84      0.82      0.83       384\n",
      "           2       0.97      0.97      0.97      2148\n",
      "\n",
      "    accuracy                           0.95      2532\n",
      "   macro avg       0.90      0.90      0.90      2532\n",
      "weighted avg       0.95      0.95      0.95      2532\n",
      "\n"
     ]
    }
   ],
   "source": [
    "\n",
    "from sklearn.metrics import classification_report\n",
    "\n",
    "X_train, X_test, y_train, y_test = train_test_split(X,y, random_state=0)\n",
    "\n",
    "ros = RandomOverSampler(sampling_strategy=\"not majority\")\n",
    "X_ros_train, y_ros_train = ros.fit_resample(X_train,y_train)\n",
    "\n",
    "dtc = DecisionTreeClassifier(random_state=45, max_depth=7,criterion='gini', max_features=None)\n",
    "dtc.fit(X_train,y_train)\n",
    "score = model.score(X_test, y_test)\n",
    "print(score)\n",
    "y_pred = dtc.predict(X_test)\n",
    "\n",
    "\n",
    "print(classification_report(y_test, y_pred))\n",
    "\n",
    "\n"
   ]
  },
  {
   "cell_type": "code",
   "execution_count": 10,
   "metadata": {},
   "outputs": [
    {
     "ename": "ValueError",
     "evalue": "not enough values to unpack (expected 3, got 2)",
     "output_type": "error",
     "traceback": [
      "\u001b[1;31m---------------------------------------------------------------------------\u001b[0m",
      "\u001b[1;31mValueError\u001b[0m                                Traceback (most recent call last)",
      "Cell \u001b[1;32mIn[10], line 17\u001b[0m\n\u001b[0;32m     12\u001b[0m steps\u001b[39m=\u001b[39m[(\u001b[39m\"\u001b[39m\u001b[39mencoder\u001b[39m\u001b[39m\"\u001b[39m, trf2),\n\u001b[0;32m     13\u001b[0m        (\u001b[39m\"\u001b[39m\u001b[39mscale\u001b[39m\u001b[39m\"\u001b[39m, StandardScaler()),\n\u001b[0;32m     14\u001b[0m        (\u001b[39m\"\u001b[39m\u001b[39mmodel\u001b[39m\u001b[39m\"\u001b[39m, DecisionTreeClassifier(random_state\u001b[39m=\u001b[39m\u001b[39m45\u001b[39m, max_depth\u001b[39m=\u001b[39m\u001b[39m7\u001b[39m,criterion\u001b[39m=\u001b[39m\u001b[39m'\u001b[39m\u001b[39mgini\u001b[39m\u001b[39m'\u001b[39m, max_features\u001b[39m=\u001b[39m\u001b[39mNone\u001b[39;00m))]\n\u001b[0;32m     16\u001b[0m pipe \u001b[39m=\u001b[39m Pipeline(steps)\n\u001b[1;32m---> 17\u001b[0m pipe\u001b[39m.\u001b[39;49mfit(X_train,y_train)\n\u001b[0;32m     19\u001b[0m y_pred \u001b[39m=\u001b[39m pipe\u001b[39m.\u001b[39mpredict(X_test)\n\u001b[0;32m     21\u001b[0m \u001b[39mprint\u001b[39m(pipe\u001b[39m.\u001b[39mscore(X_test,y_test))\n",
      "File \u001b[1;32mc:\\Users\\feldm\\AppData\\Local\\Programs\\Python\\Python311\\Lib\\site-packages\\sklearn\\pipeline.py:402\u001b[0m, in \u001b[0;36mPipeline.fit\u001b[1;34m(self, X, y, **fit_params)\u001b[0m\n\u001b[0;32m    376\u001b[0m \u001b[39m\"\"\"Fit the model.\u001b[39;00m\n\u001b[0;32m    377\u001b[0m \n\u001b[0;32m    378\u001b[0m \u001b[39mFit all the transformers one after the other and transform the\u001b[39;00m\n\u001b[1;32m   (...)\u001b[0m\n\u001b[0;32m    399\u001b[0m \u001b[39m    Pipeline with fitted steps.\u001b[39;00m\n\u001b[0;32m    400\u001b[0m \u001b[39m\"\"\"\u001b[39;00m\n\u001b[0;32m    401\u001b[0m fit_params_steps \u001b[39m=\u001b[39m \u001b[39mself\u001b[39m\u001b[39m.\u001b[39m_check_fit_params(\u001b[39m*\u001b[39m\u001b[39m*\u001b[39mfit_params)\n\u001b[1;32m--> 402\u001b[0m Xt \u001b[39m=\u001b[39m \u001b[39mself\u001b[39;49m\u001b[39m.\u001b[39;49m_fit(X, y, \u001b[39m*\u001b[39;49m\u001b[39m*\u001b[39;49mfit_params_steps)\n\u001b[0;32m    403\u001b[0m \u001b[39mwith\u001b[39;00m _print_elapsed_time(\u001b[39m\"\u001b[39m\u001b[39mPipeline\u001b[39m\u001b[39m\"\u001b[39m, \u001b[39mself\u001b[39m\u001b[39m.\u001b[39m_log_message(\u001b[39mlen\u001b[39m(\u001b[39mself\u001b[39m\u001b[39m.\u001b[39msteps) \u001b[39m-\u001b[39m \u001b[39m1\u001b[39m)):\n\u001b[0;32m    404\u001b[0m     \u001b[39mif\u001b[39;00m \u001b[39mself\u001b[39m\u001b[39m.\u001b[39m_final_estimator \u001b[39m!=\u001b[39m \u001b[39m\"\u001b[39m\u001b[39mpassthrough\u001b[39m\u001b[39m\"\u001b[39m:\n",
      "File \u001b[1;32mc:\\Users\\feldm\\AppData\\Local\\Programs\\Python\\Python311\\Lib\\site-packages\\sklearn\\pipeline.py:360\u001b[0m, in \u001b[0;36mPipeline._fit\u001b[1;34m(self, X, y, **fit_params_steps)\u001b[0m\n\u001b[0;32m    358\u001b[0m     cloned_transformer \u001b[39m=\u001b[39m clone(transformer)\n\u001b[0;32m    359\u001b[0m \u001b[39m# Fit or load from cache the current transformer\u001b[39;00m\n\u001b[1;32m--> 360\u001b[0m X, fitted_transformer \u001b[39m=\u001b[39m fit_transform_one_cached(\n\u001b[0;32m    361\u001b[0m     cloned_transformer,\n\u001b[0;32m    362\u001b[0m     X,\n\u001b[0;32m    363\u001b[0m     y,\n\u001b[0;32m    364\u001b[0m     \u001b[39mNone\u001b[39;49;00m,\n\u001b[0;32m    365\u001b[0m     message_clsname\u001b[39m=\u001b[39;49m\u001b[39m\"\u001b[39;49m\u001b[39mPipeline\u001b[39;49m\u001b[39m\"\u001b[39;49m,\n\u001b[0;32m    366\u001b[0m     message\u001b[39m=\u001b[39;49m\u001b[39mself\u001b[39;49m\u001b[39m.\u001b[39;49m_log_message(step_idx),\n\u001b[0;32m    367\u001b[0m     \u001b[39m*\u001b[39;49m\u001b[39m*\u001b[39;49mfit_params_steps[name],\n\u001b[0;32m    368\u001b[0m )\n\u001b[0;32m    369\u001b[0m \u001b[39m# Replace the transformer of the step with the fitted\u001b[39;00m\n\u001b[0;32m    370\u001b[0m \u001b[39m# transformer. This is necessary when loading the transformer\u001b[39;00m\n\u001b[0;32m    371\u001b[0m \u001b[39m# from the cache.\u001b[39;00m\n\u001b[0;32m    372\u001b[0m \u001b[39mself\u001b[39m\u001b[39m.\u001b[39msteps[step_idx] \u001b[39m=\u001b[39m (name, fitted_transformer)\n",
      "File \u001b[1;32mc:\\Users\\feldm\\AppData\\Local\\Programs\\Python\\Python311\\Lib\\site-packages\\joblib\\memory.py:349\u001b[0m, in \u001b[0;36mNotMemorizedFunc.__call__\u001b[1;34m(self, *args, **kwargs)\u001b[0m\n\u001b[0;32m    348\u001b[0m \u001b[39mdef\u001b[39;00m \u001b[39m__call__\u001b[39m(\u001b[39mself\u001b[39m, \u001b[39m*\u001b[39margs, \u001b[39m*\u001b[39m\u001b[39m*\u001b[39mkwargs):\n\u001b[1;32m--> 349\u001b[0m     \u001b[39mreturn\u001b[39;00m \u001b[39mself\u001b[39;49m\u001b[39m.\u001b[39;49mfunc(\u001b[39m*\u001b[39;49margs, \u001b[39m*\u001b[39;49m\u001b[39m*\u001b[39;49mkwargs)\n",
      "File \u001b[1;32mc:\\Users\\feldm\\AppData\\Local\\Programs\\Python\\Python311\\Lib\\site-packages\\sklearn\\pipeline.py:894\u001b[0m, in \u001b[0;36m_fit_transform_one\u001b[1;34m(transformer, X, y, weight, message_clsname, message, **fit_params)\u001b[0m\n\u001b[0;32m    892\u001b[0m \u001b[39mwith\u001b[39;00m _print_elapsed_time(message_clsname, message):\n\u001b[0;32m    893\u001b[0m     \u001b[39mif\u001b[39;00m \u001b[39mhasattr\u001b[39m(transformer, \u001b[39m\"\u001b[39m\u001b[39mfit_transform\u001b[39m\u001b[39m\"\u001b[39m):\n\u001b[1;32m--> 894\u001b[0m         res \u001b[39m=\u001b[39m transformer\u001b[39m.\u001b[39;49mfit_transform(X, y, \u001b[39m*\u001b[39;49m\u001b[39m*\u001b[39;49mfit_params)\n\u001b[0;32m    895\u001b[0m     \u001b[39melse\u001b[39;00m:\n\u001b[0;32m    896\u001b[0m         res \u001b[39m=\u001b[39m transformer\u001b[39m.\u001b[39mfit(X, y, \u001b[39m*\u001b[39m\u001b[39m*\u001b[39mfit_params)\u001b[39m.\u001b[39mtransform(X)\n",
      "File \u001b[1;32mc:\\Users\\feldm\\AppData\\Local\\Programs\\Python\\Python311\\Lib\\site-packages\\sklearn\\utils\\_set_output.py:142\u001b[0m, in \u001b[0;36m_wrap_method_output.<locals>.wrapped\u001b[1;34m(self, X, *args, **kwargs)\u001b[0m\n\u001b[0;32m    140\u001b[0m \u001b[39m@wraps\u001b[39m(f)\n\u001b[0;32m    141\u001b[0m \u001b[39mdef\u001b[39;00m \u001b[39mwrapped\u001b[39m(\u001b[39mself\u001b[39m, X, \u001b[39m*\u001b[39margs, \u001b[39m*\u001b[39m\u001b[39m*\u001b[39mkwargs):\n\u001b[1;32m--> 142\u001b[0m     data_to_wrap \u001b[39m=\u001b[39m f(\u001b[39mself\u001b[39;49m, X, \u001b[39m*\u001b[39;49margs, \u001b[39m*\u001b[39;49m\u001b[39m*\u001b[39;49mkwargs)\n\u001b[0;32m    143\u001b[0m     \u001b[39mif\u001b[39;00m \u001b[39misinstance\u001b[39m(data_to_wrap, \u001b[39mtuple\u001b[39m):\n\u001b[0;32m    144\u001b[0m         \u001b[39m# only wrap the first output for cross decomposition\u001b[39;00m\n\u001b[0;32m    145\u001b[0m         \u001b[39mreturn\u001b[39;00m (\n\u001b[0;32m    146\u001b[0m             _wrap_data_with_container(method, data_to_wrap[\u001b[39m0\u001b[39m], X, \u001b[39mself\u001b[39m),\n\u001b[0;32m    147\u001b[0m             \u001b[39m*\u001b[39mdata_to_wrap[\u001b[39m1\u001b[39m:],\n\u001b[0;32m    148\u001b[0m         )\n",
      "File \u001b[1;32mc:\\Users\\feldm\\AppData\\Local\\Programs\\Python\\Python311\\Lib\\site-packages\\sklearn\\compose\\_column_transformer.py:722\u001b[0m, in \u001b[0;36mColumnTransformer.fit_transform\u001b[1;34m(self, X, y)\u001b[0m\n\u001b[0;32m    720\u001b[0m \u001b[39m# set n_features_in_ attribute\u001b[39;00m\n\u001b[0;32m    721\u001b[0m \u001b[39mself\u001b[39m\u001b[39m.\u001b[39m_check_n_features(X, reset\u001b[39m=\u001b[39m\u001b[39mTrue\u001b[39;00m)\n\u001b[1;32m--> 722\u001b[0m \u001b[39mself\u001b[39;49m\u001b[39m.\u001b[39;49m_validate_transformers()\n\u001b[0;32m    723\u001b[0m \u001b[39mself\u001b[39m\u001b[39m.\u001b[39m_validate_column_callables(X)\n\u001b[0;32m    724\u001b[0m \u001b[39mself\u001b[39m\u001b[39m.\u001b[39m_validate_remainder(X)\n",
      "File \u001b[1;32mc:\\Users\\feldm\\AppData\\Local\\Programs\\Python\\Python311\\Lib\\site-packages\\sklearn\\compose\\_column_transformer.py:397\u001b[0m, in \u001b[0;36mColumnTransformer._validate_transformers\u001b[1;34m(self)\u001b[0m\n\u001b[0;32m    394\u001b[0m \u001b[39mif\u001b[39;00m \u001b[39mnot\u001b[39;00m \u001b[39mself\u001b[39m\u001b[39m.\u001b[39mtransformers:\n\u001b[0;32m    395\u001b[0m     \u001b[39mreturn\u001b[39;00m\n\u001b[1;32m--> 397\u001b[0m names, transformers, _ \u001b[39m=\u001b[39m \u001b[39mzip\u001b[39m(\u001b[39m*\u001b[39m\u001b[39mself\u001b[39m\u001b[39m.\u001b[39mtransformers)\n\u001b[0;32m    399\u001b[0m \u001b[39m# validate names\u001b[39;00m\n\u001b[0;32m    400\u001b[0m \u001b[39mself\u001b[39m\u001b[39m.\u001b[39m_validate_names(names)\n",
      "\u001b[1;31mValueError\u001b[0m: not enough values to unpack (expected 3, got 2)"
     ]
    }
   ],
   "source": [
    "# with standard scaler \n",
    "from sklearn.compose import ColumnTransformer\n",
    "from sklearn.preprocessing import OneHotEncoder\n",
    "\n",
    "X_train,X_test, y_train, y_test = train_test_split(X_ros,y_ros,random_state=15)\n",
    "\n",
    "trf2 = ColumnTransformer(transformers =[\n",
    "        ('enc', OneHotEncoder(sparse = False)),\n",
    "    ], remainder ='passthrough')\n",
    "\n",
    "\n",
    "steps=[(\"encoder\", trf2),\n",
    "       (\"scale\", StandardScaler()),\n",
    "       (\"model\", DecisionTreeClassifier(random_state=45, max_depth=7,criterion='gini', max_features=None))]\n",
    "\n",
    "pipe = Pipeline(steps)\n",
    "pipe.fit(X_train,y_train)\n",
    "\n",
    "y_pred = pipe.predict(X_test)\n",
    "\n",
    "print(pipe.score(X_test,y_test))\n",
    "disp = ConfusionMatrixDisplay.from_estimator(\n",
    "        pipe,\n",
    "        X_test,\n",
    "        y_test,\n",
    "        cmap=plt.cm.Blues\n",
    "    )"
   ]
  },
  {
   "cell_type": "code",
   "execution_count": null,
   "metadata": {},
   "outputs": [
    {
     "name": "stdout",
     "output_type": "stream",
     "text": [
      "              precision    recall  f1-score   support\n",
      "\n",
      "           0       0.92      0.95      0.93      1483\n",
      "           1       0.95      0.91      0.93      1501\n",
      "\n",
      "    accuracy                           0.93      2984\n",
      "   macro avg       0.93      0.93      0.93      2984\n",
      "weighted avg       0.93      0.93      0.93      2984\n",
      "\n",
      "[[0.         1.        ]\n",
      " [0.07539683 0.92460317]\n",
      " [0.99546279 0.00453721]\n",
      " ...\n",
      " [0.94723295 0.05276705]\n",
      " [0.98905109 0.01094891]\n",
      " [0.99546279 0.00453721]]\n"
     ]
    }
   ],
   "source": [
    "from sklearn.metrics import classification_report\n",
    "print(classification_report(y_test, y_pred))\n",
    "\n",
    "y_predict = pipe.predict_proba(X_test)\n",
    "print(y_predict)\n",
    "# 0 = attrited customer, 1 = Existing customer "
   ]
  },
  {
   "cell_type": "code",
   "execution_count": null,
   "metadata": {},
   "outputs": [
    {
     "data": {
      "text/plain": [
       "<Axes: >"
      ]
     },
     "execution_count": 13,
     "metadata": {},
     "output_type": "execute_result"
    },
    {
     "data": {
      "image/png": "[encoded data removed]",
      "text/plain": [
       "<Figure size 640x480 with 1 Axes>"
      ]
     },
     "metadata": {},
     "output_type": "display_data"
    }
   ],
   "source": [
    "features_names = X.columns\n",
    "feature_importance = pd.DataFrame(pipe.steps[1][1].feature_importances_,index = features_names)\n",
    "#features = list(feature_importance[[0]>0].index)\n",
    "feature_importance.plot(kind='bar')"
   ]
  }
 ],
 "metadata": {
  "kernelspec": {
   "display_name": "Python 3",
   "language": "python",
   "name": "python3"
  },
  "language_info": {
   "codemirror_mode": {
    "name": "ipython",
    "version": 3
   },
   "file_extension": ".py",
   "mimetype": "text/x-python",
   "name": "python",
   "nbconvert_exporter": "python",
   "pygments_lexer": "ipython3",
   "version": "3.11.0"
  },
  "orig_nbformat": 4,
  "vscode": {
   "interpreter": {
    "hash": "2a264fb9b39b2d8a6b0434ad44a7d75b22e8b5c9c0f5b3bef937d0ac9d607c9a"
   }
  }
 },
 "nbformat": 4,
 "nbformat_minor": 2
}

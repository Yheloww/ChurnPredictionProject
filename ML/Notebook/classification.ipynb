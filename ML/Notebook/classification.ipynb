{
 "cells": [
  {
   "cell_type": "code",
   "execution_count": 3,
   "metadata": {},
   "outputs": [
    {
     "data": {
      "text/html": [
       "<div>\n",
       "<style scoped>\n",
       "    .dataframe tbody tr th:only-of-type {\n",
       "        vertical-align: middle;\n",
       "    }\n",
       "\n",
       "    .dataframe tbody tr th {\n",
       "        vertical-align: top;\n",
       "    }\n",
       "\n",
       "    .dataframe thead th {\n",
       "        text-align: right;\n",
       "    }\n",
       "</style>\n",
       "<table border=\"1\" class=\"dataframe\">\n",
       "  <thead>\n",
       "    <tr style=\"text-align: right;\">\n",
       "      <th></th>\n",
       "      <th>Attrition_Flag</th>\n",
       "      <th>Total_Trans_Ct</th>\n",
       "      <th>Total_Revolving_Bal</th>\n",
       "      <th>Total_Relationship_Count</th>\n",
       "      <th>Total_Amt_Chng_Q4_Q1</th>\n",
       "      <th>Total_Trans_Amt</th>\n",
       "      <th>Total_Ct_Chng_Q4_Q1</th>\n",
       "      <th>Avg_Open_To_Buy</th>\n",
       "      <th>Customer_Age</th>\n",
       "    </tr>\n",
       "  </thead>\n",
       "  <tbody>\n",
       "    <tr>\n",
       "      <th>0</th>\n",
       "      <td>1</td>\n",
       "      <td>42</td>\n",
       "      <td>777</td>\n",
       "      <td>5</td>\n",
       "      <td>1.335</td>\n",
       "      <td>1144</td>\n",
       "      <td>1.625</td>\n",
       "      <td>11914.0</td>\n",
       "      <td>45</td>\n",
       "    </tr>\n",
       "    <tr>\n",
       "      <th>1</th>\n",
       "      <td>1</td>\n",
       "      <td>33</td>\n",
       "      <td>864</td>\n",
       "      <td>6</td>\n",
       "      <td>1.541</td>\n",
       "      <td>1291</td>\n",
       "      <td>3.714</td>\n",
       "      <td>7392.0</td>\n",
       "      <td>49</td>\n",
       "    </tr>\n",
       "    <tr>\n",
       "      <th>2</th>\n",
       "      <td>1</td>\n",
       "      <td>20</td>\n",
       "      <td>0</td>\n",
       "      <td>4</td>\n",
       "      <td>2.594</td>\n",
       "      <td>1887</td>\n",
       "      <td>2.333</td>\n",
       "      <td>3418.0</td>\n",
       "      <td>51</td>\n",
       "    </tr>\n",
       "    <tr>\n",
       "      <th>3</th>\n",
       "      <td>1</td>\n",
       "      <td>28</td>\n",
       "      <td>0</td>\n",
       "      <td>5</td>\n",
       "      <td>2.175</td>\n",
       "      <td>816</td>\n",
       "      <td>2.500</td>\n",
       "      <td>4716.0</td>\n",
       "      <td>40</td>\n",
       "    </tr>\n",
       "    <tr>\n",
       "      <th>4</th>\n",
       "      <td>1</td>\n",
       "      <td>24</td>\n",
       "      <td>1247</td>\n",
       "      <td>3</td>\n",
       "      <td>1.376</td>\n",
       "      <td>1088</td>\n",
       "      <td>0.846</td>\n",
       "      <td>2763.0</td>\n",
       "      <td>44</td>\n",
       "    </tr>\n",
       "  </tbody>\n",
       "</table>\n",
       "</div>"
      ],
      "text/plain": [
       "   Attrition_Flag  Total_Trans_Ct  Total_Revolving_Bal  \\\n",
       "0               1              42                  777   \n",
       "1               1              33                  864   \n",
       "2               1              20                    0   \n",
       "3               1              28                    0   \n",
       "4               1              24                 1247   \n",
       "\n",
       "   Total_Relationship_Count  Total_Amt_Chng_Q4_Q1  Total_Trans_Amt  \\\n",
       "0                         5                 1.335             1144   \n",
       "1                         6                 1.541             1291   \n",
       "2                         4                 2.594             1887   \n",
       "3                         5                 2.175              816   \n",
       "4                         3                 1.376             1088   \n",
       "\n",
       "   Total_Ct_Chng_Q4_Q1  Avg_Open_To_Buy  Customer_Age  \n",
       "0                1.625          11914.0            45  \n",
       "1                3.714           7392.0            49  \n",
       "2                2.333           3418.0            51  \n",
       "3                2.500           4716.0            40  \n",
       "4                0.846           2763.0            44  "
      ]
     },
     "execution_count": 3,
     "metadata": {},
     "output_type": "execute_result"
    }
   ],
   "source": [
    "import pandas as pd \n",
    "import numpy as np \n",
    "import matplotlib.pyplot as plt \n",
    "import seaborn as sns\n",
    "\n",
    "churn = pd.read_csv(\"../Data/cleaned_ML.csv\")\n",
    "churn.drop(['Unnamed: 0'], axis=1, inplace=True)\n",
    "less = churn[['Attrition_Flag','Total_Trans_Ct','Total_Revolving_Bal','Total_Relationship_Count','Total_Amt_Chng_Q4_Q1','Total_Trans_Amt','Total_Ct_Chng_Q4_Q1','Avg_Open_To_Buy','Customer_Age']]\n",
    "less.head()"
   ]
  },
  {
   "cell_type": "code",
   "execution_count": 4,
   "metadata": {},
   "outputs": [],
   "source": [
    "\n",
    "X = less.drop('Attrition_Flag',axis=1)\n",
    "y = less['Attrition_Flag']"
   ]
  },
  {
   "cell_type": "code",
   "execution_count": 5,
   "metadata": {},
   "outputs": [
    {
     "data": {
      "text/plain": [
       "<Axes: ylabel='Attrition_Flag'>"
      ]
     },
     "execution_count": 5,
     "metadata": {},
     "output_type": "execute_result"
    },
    {
     "data": {
      "image/png": "[encoded data removed]",
      "text/plain": [
       "<Figure size 640x480 with 1 Axes>"
      ]
     },
     "metadata": {},
     "output_type": "display_data"
    }
   ],
   "source": [
    "from imblearn.over_sampling import RandomOverSampler\n",
    "from imblearn.under_sampling import RandomUnderSampler\n",
    "\n",
    "rus = RandomUnderSampler(sampling_strategy=\"not minority\")\n",
    "ros = RandomOverSampler(sampling_strategy=\"not majority\")\n",
    "X_ros, y_ros = ros.fit_resample(X,y)\n",
    "X_rus, y_rus = rus.fit_resample(X,y)\n",
    "\n",
    "y_ros.value_counts().plot.pie(autopct='%.2f')\n"
   ]
  },
  {
   "cell_type": "code",
   "execution_count": 6,
   "metadata": {},
   "outputs": [
    {
     "data": {
      "text/plain": [
       "{'ccp_alpha': 0.0,\n",
       " 'class_weight': None,\n",
       " 'criterion': 'gini',\n",
       " 'max_depth': 6,\n",
       " 'max_features': None,\n",
       " 'max_leaf_nodes': None,\n",
       " 'min_impurity_decrease': 0.0,\n",
       " 'min_samples_leaf': 1,\n",
       " 'min_samples_split': 2,\n",
       " 'min_weight_fraction_leaf': 0.0,\n",
       " 'random_state': None,\n",
       " 'splitter': 'best'}"
      ]
     },
     "execution_count": 6,
     "metadata": {},
     "output_type": "execute_result"
    }
   ],
   "source": [
    "from sklearn.naive_bayes import GaussianNB\n",
    "from sklearn.model_selection import train_test_split\n",
    "from sklearn.neighbors import KNeighborsClassifier\n",
    "from sklearn.tree import DecisionTreeClassifier\n",
    "from sklearn.metrics import ConfusionMatrixDisplay\n",
    "from sklearn.svm import SVC\n",
    "from sklearn.pipeline import Pipeline\n",
    "from sklearn.model_selection import RandomizedSearchCV\n",
    "from sklearn.preprocessing import StandardScaler\n",
    "#test of different classifier algorithms\n",
    "classifier = [\n",
    "    KNeighborsClassifier(5),\n",
    "    GaussianNB(),\n",
    "    DecisionTreeClassifier(max_depth=6),\n",
    "    SVC(gamma=2, C=1)\n",
    "]\n",
    "DecisionTreeClassifier(max_depth=6).get_params()"
   ]
  },
  {
   "cell_type": "code",
   "execution_count": 7,
   "metadata": {},
   "outputs": [
    {
     "name": "stdout",
     "output_type": "stream",
     "text": [
      "the KNeighborsClassifier() has a score of 0.8887399463806971\n",
      "the GaussianNB() has a score of 0.7694369973190348\n",
      "the DecisionTreeClassifier(max_depth=6) has a score of 0.9423592493297587\n",
      "the SVC(C=1, gamma=2) has a score of 0.989946380697051\n"
     ]
    }
   ],
   "source": [
    "#with Over sampling \n",
    "X_train, X_test, y_train, y_test = train_test_split(X_ros, y_ros, random_state=0)\n",
    "\n",
    "for model in classifier:\n",
    "    y_pred = model.fit(X_train, y_train).predict(X_test)\n",
    "    number = X_test.shape[0]\n",
    "    test = (y_test != y_pred).sum()\n",
    "    score = model.score(X_test, y_test)\n",
    "    print(f\"the {model} has a score of {score}\")\n"
   ]
  },
  {
   "cell_type": "code",
   "execution_count": 8,
   "metadata": {},
   "outputs": [
    {
     "name": "stdout",
     "output_type": "stream",
     "text": [
      "the KNeighborsClassifier() has a score of 0.8456014362657092\n",
      "the GaussianNB() has a score of 0.7630161579892281\n",
      "the DecisionTreeClassifier(max_depth=6) has a score of 0.9245960502692998\n",
      "the SVC(C=1, gamma=2) has a score of 0.4865350089766607\n"
     ]
    }
   ],
   "source": [
    "#With Under Sampling \n",
    "X_train, X_test, y_train, y_test = train_test_split(X_rus, y_rus, random_state=0)\n",
    "\n",
    "for model in classifier:\n",
    "    y_pred = model.fit(X_train, y_train).predict(X_test)\n",
    "    number = X_test.shape[0]\n",
    "    score = model.score(X_test, y_test)\n",
    "    print(f\"the {model} has a score of {score}\")\n",
    "    "
   ]
  },
  {
   "cell_type": "code",
   "execution_count": 9,
   "metadata": {},
   "outputs": [
    {
     "name": "stdout",
     "output_type": "stream",
     "text": [
      "{'max_features': None, 'max_depth': 7, 'criterion': 'gini'}\n",
      "0.9372209901150695\n"
     ]
    }
   ],
   "source": [
    "\n",
    "X_train, X_test, y_train, y_test = train_test_split(X_ros, y_ros, random_state=0)\n",
    "\n",
    "\n",
    "dtc = DecisionTreeClassifier(random_state=42)\n",
    "\n",
    "param_grid = { \n",
    "    'max_features': ['sqrt', 'log2',None],\n",
    "    'max_depth' : [4,5,6,7,8],\n",
    "    'criterion' :['gini', 'entropy'],\n",
    "}\n",
    "\n",
    "dtc = RandomizedSearchCV(dtc,\n",
    "                  param_grid,\n",
    "                  cv=5,\n",
    "                  n_iter=20,\n",
    "                  random_state=42,\n",
    ")\n",
    "\n",
    "dtc.fit(X_train,y_train)\n",
    "print(dtc.best_params_)\n",
    "print(dtc.best_score_)"
   ]
  },
  {
   "cell_type": "code",
   "execution_count": 10,
   "metadata": {},
   "outputs": [
    {
     "name": "stdout",
     "output_type": "stream",
     "text": [
      "0.8703083109919572\n"
     ]
    }
   ],
   "source": [
    "\n",
    "X_train, X_test, y_train, y_test = train_test_split(X_ros, y_ros, random_state=0)\n",
    "\n",
    "\n",
    "dtc = DecisionTreeClassifier(random_state=45, max_depth=7,criterion='gini', max_features=None)\n",
    "dtc.fit(X_train,y_train)\n",
    "score = model.score(X_test, y_test)\n",
    "print(score)\n",
    "\n",
    "\n"
   ]
  },
  {
   "cell_type": "code",
   "execution_count": 11,
   "metadata": {},
   "outputs": [
    {
     "name": "stdout",
     "output_type": "stream",
     "text": [
      "0.9477211796246648\n"
     ]
    },
    {
     "data": {
      "image/png": "[encoded data removed]",
      "text/plain": [
       "<Figure size 640x480 with 2 Axes>"
      ]
     },
     "metadata": {},
     "output_type": "display_data"
    }
   ],
   "source": [
    "# with standard scaler \n",
    "X_train,X_test, y_train, y_test = train_test_split(X_ros,y_ros,random_state=15)\n",
    "\n",
    "steps=[(\"scale\", StandardScaler()),\n",
    "       (\"model\", DecisionTreeClassifier(random_state=45, max_depth=7,criterion='gini', max_features=None))]\n",
    "\n",
    "pipe = Pipeline(steps)\n",
    "pipe.fit(X_train,y_train)\n",
    "\n",
    "y_pred = pipe.predict(X_test)\n",
    "\n",
    "print(pipe.score(X_test,y_test))\n",
    "disp = ConfusionMatrixDisplay.from_estimator(\n",
    "        pipe,\n",
    "        X_test,\n",
    "        y_test,\n",
    "        cmap=plt.cm.Blues\n",
    "    )"
   ]
  },
  {
   "cell_type": "code",
   "execution_count": 12,
   "metadata": {},
   "outputs": [
    {
     "name": "stdout",
     "output_type": "stream",
     "text": [
      "              precision    recall  f1-score   support\n",
      "\n",
      "           0       0.93      0.96      0.95      1483\n",
      "           1       0.96      0.93      0.95      1501\n",
      "\n",
      "    accuracy                           0.95      2984\n",
      "   macro avg       0.95      0.95      0.95      2984\n",
      "weighted avg       0.95      0.95      0.95      2984\n",
      "\n"
     ]
    }
   ],
   "source": [
    "from sklearn.metrics import classification_report\n",
    "print(classification_report(y_test, y_pred))\n",
    "# 0 = attrited customer, 1 = Existing customer "
   ]
  },
  {
   "cell_type": "code",
   "execution_count": 13,
   "metadata": {},
   "outputs": [
    {
     "data": {
      "text/plain": [
       "<Axes: >"
      ]
     },
     "execution_count": 13,
     "metadata": {},
     "output_type": "execute_result"
    },
    {
     "data": {
      "image/png": "[encoded data removed]",
      "text/plain": [
       "<Figure size 640x480 with 1 Axes>"
      ]
     },
     "metadata": {},
     "output_type": "display_data"
    }
   ],
   "source": [
    "features_names = X.columns\n",
    "feature_importance = pd.DataFrame(pipe.steps[1][1].feature_importances_,index = features_names)\n",
    "#features = list(feature_importance[[0]>0].index)\n",
    "feature_importance.plot(kind='bar')"
   ]
  }
 ],
 "metadata": {
  "kernelspec": {
   "display_name": "churn",
   "language": "python",
   "name": "python3"
  },
  "language_info": {
   "codemirror_mode": {
    "name": "ipython",
    "version": 3
   },
   "file_extension": ".py",
   "mimetype": "text/x-python",
   "name": "python",
   "nbconvert_exporter": "python",
   "pygments_lexer": "ipython3",
   "version": "3.11.0"
  },
  "orig_nbformat": 4,
  "vscode": {
   "interpreter": {
    "hash": "822dfc1d7f37e8bf8b69a16433845aa758f86817b60e242026fa89628d6ebcbb"
   }
  }
 },
 "nbformat": 4,
 "nbformat_minor": 2
}

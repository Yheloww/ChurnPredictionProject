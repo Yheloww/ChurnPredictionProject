{
 "cells": [
  {
   "cell_type": "code",
   "execution_count": null,
   "metadata": {},
   "outputs": [],
   "source": [
    "import pandas as pd \n",
    "\n",
    "churned = pd.read_csv('./clusters.csv')\n"
   ]
  }
 ],
 "metadata": {
  "kernelspec": {
   "display_name": "churn",
   "language": "python",
   "name": "python3"
  },
  "language_info": {
   "name": "python",
   "version": "3.11.0"
  },
  "orig_nbformat": 4,
  "vscode": {
   "interpreter": {
    "hash": "822dfc1d7f37e8bf8b69a16433845aa758f86817b60e242026fa89628d6ebcbb"
   }
  }
 },
 "nbformat": 4,
 "nbformat_minor": 2
}
